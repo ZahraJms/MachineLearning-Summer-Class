{
 "cells": [
  {
   "cell_type": "code",
   "execution_count": 1,
   "metadata": {},
   "outputs": [],
   "source": [
    "import numpy as np\n",
    "import pandas as pd\n",
    "import random\n",
    "import matplotlib.pyplot as plt\n",
    "from sklearn import preprocessing\n",
    "from sklearn.neighbors import KNeighborsClassifier\n",
    "from sklearn.linear_model import LogisticRegression\n",
    "from sklearn.tree import DecisionTreeClassifier\n",
    "from sklearn.svm import SVC\n",
    "from sklearn.ensemble import RandomForestClassifier\n",
    "from sklearn.neural_network import MLPClassifier\n",
    "from sklearn.metrics import precision_score,recall_score,confusion_matrix,plot_confusion_matrix\n",
    "%matplotlib inline"
   ]
  },
  {
   "cell_type": "markdown",
   "metadata": {},
   "source": [
    "### Make Data"
   ]
  },
  {
   "cell_type": "code",
   "execution_count": 2,
   "metadata": {},
   "outputs": [],
   "source": [
    "df = pd.read_csv('mnist_train.csv')\n",
    "x = df.to_numpy()"
   ]
  },
  {
   "cell_type": "code",
   "execution_count": 3,
   "metadata": {},
   "outputs": [],
   "source": [
    "np.random.seed = 0\n",
    "x = x[np.random.permutation(x.shape[0])]\n",
    "y = x[:,0]\n",
    "x = x[:,1:]"
   ]
  },
  {
   "cell_type": "code",
   "execution_count": 4,
   "metadata": {},
   "outputs": [],
   "source": [
    "x = preprocessing.normalize(x)"
   ]
  },
  {
   "cell_type": "markdown",
   "metadata": {},
   "source": [
    "### Train And Vaⅼiⅾation"
   ]
  },
  {
   "cell_type": "code",
   "execution_count": 5,
   "metadata": {},
   "outputs": [],
   "source": [
    "split = int(x.shape[0] * 0.8)\n",
    "\n",
    "x_train = x[:split]\n",
    "y_train = y[:split]\n",
    "\n",
    "x_vaⅼiⅾation = x[split:]\n",
    "y_vaⅼiⅾation = y[split:]"
   ]
  },
  {
   "cell_type": "markdown",
   "metadata": {},
   "source": [
    "### Logistic Regression"
   ]
  },
  {
   "cell_type": "code",
   "execution_count": 6,
   "metadata": {},
   "outputs": [
    {
     "data": {
      "text/plain": [
       "\"train_scores = []\\nvaⅼiⅾation_scores = []\\nfor c in range(1,10):\\n    clf = LogisticRegression(C=c)\\n    clf.fit(x_train,y_train)\\n    train_scores.append(clf.score(x_train,y_train))\\n    vaⅼiⅾation_scores.append(clf.score(x_vaⅼiⅾation,y_vaⅼiⅾation))\\n\\nplt.plot(np.arange(1, 10,1), np.array(train_scores), 'b-')\\nplt.plot(np.arange(1, 10,1), np.array(vaⅼiⅾation_scores), 'r-')\""
      ]
     },
     "execution_count": 6,
     "metadata": {},
     "output_type": "execute_result"
    }
   ],
   "source": [
    "train_scores = []\n",
    "vaⅼiⅾation_scores = []\n",
    "for c in range(1,11):\n",
    "    clf = LogisticRegression(C=c,penalty='l2')\n",
    "    clf.fit(x_train,y_train)\n",
    "    train_scores.append(clf.score(x_train,y_train))\n",
    "    vaⅼiⅾation_scores.append(clf.score(x_vaⅼiⅾation,y_vaⅼiⅾation))\n",
    "\n",
    "plt.ylabel(\"Score\")\n",
    "plt.xlabel(\"C\")\n",
    "plt.plot(np.arange(1, 11, 1), np.array(train_scores), 'b-',label=\"Train\")\n",
    "plt.plot(np.arange(1, 11, 1), np.array(validation_scores), 'r-',label=\"Validation\")\n",
    "plt.legend()"
   ]
  },
  {
   "cell_type": "markdown",
   "metadata": {},
   "source": [
    "### KNN"
   ]
  },
  {
   "cell_type": "code",
   "execution_count": null,
   "metadata": {},
   "outputs": [
    {
     "name": "stdout",
     "output_type": "stream",
     "text": [
      "1\n",
      "2\n"
     ]
    }
   ],
   "source": [
    "train_scores = []\n",
    "validation_scores = []\n",
    "for k in range(1,11):\n",
    "    clf = KNeighborsClassifier(n_neighbors=k)\n",
    "    clf.fit(x_train,y_train)\n",
    "    train_scores.append(clf.score(x_train,y_train))\n",
    "    validation_scores.append(clf.score(x_validation,y_validation))\n",
    "    \n",
    "plt.ylabel(\"Score\")\n",
    "plt.xlabel(\"N_Neighbors\")\n",
    "plt.plot(np.arange(1, 11, 1), np.array(train_scores), 'b-',label=\"Train\")\n",
    "plt.plot(np.arange(1, 11, 1), np.array(validation_scores), 'r-',label=\"Validation\")\n",
    "plt.legend()"
   ]
  },
  {
   "cell_type": "markdown",
   "metadata": {},
   "source": [
    "### SVM"
   ]
  },
  {
   "cell_type": "code",
   "execution_count": null,
   "metadata": {},
   "outputs": [],
   "source": [
    "train_scores = []\n",
    "validation_scores = []\n",
    "for c in range(1,11):\n",
    "    clf = SVC(C=c,kernel=\"poly\")\n",
    "    clf.fit(x_train,y_train)\n",
    "    train_scores.append(clf.score(x_train,y_train))\n",
    "    validation_scores.append(clf.score(x_validation,y_validation))\n",
    "\n",
    "plt.ylabel(\"Score\")\n",
    "plt.xlabel(\"C\")\n",
    "plt.plot(np.arange(1, 11, 1), np.array(train_scores), 'b-',label=\"Train\")\n",
    "plt.plot(np.arange(1, 11, 1), np.array(validation_scores), 'r-',label=\"Validation\")\n",
    "plt.legend()"
   ]
  },
  {
   "cell_type": "markdown",
   "metadata": {},
   "source": [
    "### Decision Tree"
   ]
  },
  {
   "cell_type": "code",
   "execution_count": null,
   "metadata": {},
   "outputs": [],
   "source": [
    "train_scores = []\n",
    "validation_scores = []\n",
    "for d in range(1,16):\n",
    "    clf = DecisionTreeClassifier(max_depth=d,criterion='entropy')\n",
    "    clf.fit(x_train,y_train)\n",
    "    train_scores.append(clf.score(x_train,y_train))\n",
    "    validation_scores.append(clf.score(x_validation,y_validation))\n",
    "\n",
    "plt.ylabel(\"Score\")\n",
    "plt.xlabel(\"Max Depth\")\n",
    "plt.plot(np.arange(1, 16, 1), np.array(train_scores), 'b-',label=\"Train\")\n",
    "plt.plot(np.arange(1, 16, 1), np.array(validation_scores), 'r-',label=\"Validation\")\n",
    "plt.legend()"
   ]
  },
  {
   "cell_type": "markdown",
   "metadata": {},
   "source": [
    "### Random Forest"
   ]
  },
  {
   "cell_type": "code",
   "execution_count": null,
   "metadata": {},
   "outputs": [],
   "source": [
    "train_scores = []\n",
    "validation_scores = []\n",
    "\n",
    "for n in range(1,200,10):\n",
    "    clf = RandomForestClassifier(n_estimators=n)\n",
    "    clf.fit(x_train,y_train)\n",
    "    train_scores.append(clf.score(x_train,y_train))\n",
    "    validation_scores.append(clf.score(x_validation,y_validation))\n",
    "    \n",
    "plt.ylabel(\"Score\")\n",
    "plt.xlabel(\"N_Estimators\")\n",
    "plt.plot(np.arange(1,200, 10), np.array(train_scores), 'b-',label=\"Train\")\n",
    "plt.plot(np.arange(1,200, 10), np.array(validation_scores), 'r-',label=\"Validation\")\n",
    "plt.legend()"
   ]
  },
  {
   "cell_type": "markdown",
   "metadata": {},
   "source": [
    "### Neural Network"
   ]
  },
  {
   "cell_type": "code",
   "execution_count": null,
   "metadata": {},
   "outputs": [],
   "source": [
    "train_scores = []\n",
    "validation_scores = []\n",
    "\n",
    "for n in range(5,200,10):\n",
    "    clf = MLPClassifier(hidden_layer_sizes=(n,),activation='logistic')\n",
    "    clf.fit(x_train,y_train)\n",
    "    train_scores.append(clf.score(x_train,y_train))\n",
    "    validation_scores.append(clf.score(x_validation,y_validation))\n",
    "    \n",
    "plt.ylabel(\"Score\")\n",
    "plt.xlabel(\"N_Estimators\")\n",
    "plt.plot(np.arange(5,200, 10), np.array(train_scores), 'b-',label=\"Train\")\n",
    "plt.plot(np.arange(5,200, 10), np.array(validation_scores), 'r-',label=\"Validation\")\n",
    "plt.legend()"
   ]
  },
  {
   "cell_type": "markdown",
   "metadata": {},
   "source": [
    "### Test Data"
   ]
  },
  {
   "cell_type": "code",
   "execution_count": 5,
   "metadata": {},
   "outputs": [],
   "source": [
    "df = pd.read_csv('mnist_test.csv')\n",
    "xtest = df.to_numpy()\n",
    "\n",
    "np.random.seed = 0\n",
    "xtest = xtest[np.random.permutation(xtest.shape[0])]\n",
    "y_test = xtest[:,0]\n",
    "x_test = xtest[:,1:]"
   ]
  },
  {
   "cell_type": "code",
   "execution_count": 8,
   "metadata": {},
   "outputs": [
    {
     "name": "stdout",
     "output_type": "stream",
     "text": [
      "SVM\n",
      " ------------ \n",
      "Train Precision : 0.9992215924848551 Test Precision : 0.9806488650073135\n",
      "Train Recall : 0.9992104458155847 Test Recall : 0.9797104644476068\n"
     ]
    },
    {
     "name": "stderr",
     "output_type": "stream",
     "text": [
      "C:\\Users\\User\\AppData\\Local\\Packages\\PythonSoftwareFoundation.Python.3.8_qbz5n2kfra8p0\\LocalCache\\local-packages\\Python38\\site-packages\\sklearn\\linear_model\\_logistic.py:762: ConvergenceWarning: lbfgs failed to converge (status=1):\n",
      "STOP: TOTAL NO. of ITERATIONS REACHED LIMIT.\n",
      "\n",
      "Increase the number of iterations (max_iter) or scale the data as shown in:\n",
      "    https://scikit-learn.org/stable/modules/preprocessing.html\n",
      "Please also refer to the documentation for alternative solver options:\n",
      "    https://scikit-learn.org/stable/modules/linear_model.html#logistic-regression\n",
      "  n_iter_i = _check_optimize_result(\n",
      "C:\\Users\\User\\AppData\\Local\\Packages\\PythonSoftwareFoundation.Python.3.8_qbz5n2kfra8p0\\LocalCache\\local-packages\\Python38\\site-packages\\sklearn\\metrics\\_classification.py:1221: UndefinedMetricWarning: Precision is ill-defined and being set to 0.0 due to no predicted samples. Use `zero_division` parameter to control this behavior.\n",
      "  _warn_prf(average, modifier, msg_start, len(result))\n"
     ]
    },
    {
     "name": "stdout",
     "output_type": "stream",
     "text": [
      "Logistic Regression\n",
      " ------------ \n",
      "Train Precision : 0.9294842989055448 Test Precision : 0.7541273089700149\n",
      "Train Recall : 0.9294404014389096 Test Recall : 0.5398817653624202\n",
      "KNN\n",
      " ------------ \n",
      "Train Precision : 0.9877560792982261 Test Precision : 0.9734719004661825\n",
      "Train Recall : 0.9874465158588803 Test Recall : 0.9729516526701742\n",
      "Decision Tree\n",
      " ------------ \n",
      "Train Precision : 0.9421208757937094 Test Precision : 0.6775302829184444\n",
      "Train Recall : 0.9417018644184638 Test Recall : 0.651191410291677\n",
      "Random Forest\n",
      " ------------ \n",
      "Train Precision : 0.999967146109676 Test Precision : 0.914622741625775\n",
      "Train Recall : 0.9999665720215329 Test Recall : 0.9135393985210005\n"
     ]
    },
    {
     "name": "stderr",
     "output_type": "stream",
     "text": [
      "C:\\Users\\User\\AppData\\Local\\Packages\\PythonSoftwareFoundation.Python.3.8_qbz5n2kfra8p0\\LocalCache\\local-packages\\Python38\\site-packages\\sklearn\\neural_network\\_multilayer_perceptron.py:582: ConvergenceWarning: Stochastic Optimizer: Maximum iterations (200) reached and the optimization hasn't converged yet.\n",
      "  warnings.warn(\n"
     ]
    },
    {
     "name": "stdout",
     "output_type": "stream",
     "text": [
      "MLP\n",
      " ------------ \n",
      "Train Precision : 0.9998404264864742 Test Precision : 0.9342674676859494\n",
      "Train Recall : 0.9998360376738356 Test Recall : 0.927897220301934\n"
     ]
    },
    {
     "data": {
      "text/plain": [
       "<matplotlib.legend.Legend at 0x1dfc638afd0>"
      ]
     },
     "execution_count": 8,
     "metadata": {},
     "output_type": "execute_result"
    },
    {
     "data": {
      "image/png": "[encoded data removed]",
      "text/plain": [
       "<Figure size 432x288 with 1 Axes>"
      ]
     },
     "metadata": {
      "needs_background": "light"
     },
     "output_type": "display_data"
    },
    {
     "data": {
      "image/png": "[encoded data removed]",
      "text/plain": [
       "<Figure size 432x288 with 1 Axes>"
      ]
     },
     "metadata": {
      "needs_background": "light"
     },
     "output_type": "display_data"
    }
   ],
   "source": [
    "train_score = []\n",
    "test_score = []\n",
    "train_precision=[]\n",
    "test_precision=[]\n",
    "train_recall=[]\n",
    "test_recall=[]\n",
    "classifier = [\"SVM\",\"Logistic Regression\",\"KNN\",\"Decision Tree\",\"Random Forest\",\"MLP\"]\n",
    "\n",
    "#SVM\n",
    "clf = SVC(C=2,kernel=\"poly\")\n",
    "clf.fit(x,y)\n",
    "trainscore=clf.score(x,y)\n",
    "testscore=clf.score(x_test,y_test)\n",
    "train_score.append(trainscore)\n",
    "test_score.append(testscore)\n",
    "\n",
    "testprecision = 0\n",
    "testrecall = 0\n",
    "trainprecision = 0\n",
    "trainrecall = 0\n",
    "#h = clf.predict(x)\n",
    "htest = clf.predict(x_test)\n",
    "for i in range(0,10):\n",
    "    trainprecision += precision_score(y==i,h==i)\n",
    "    testprecision += precision_score(y_test==i,htest==i)\n",
    "    trainrecall += recall_score(y==i,h==i)\n",
    "    testrecall += recall_score(y_test==i,htest==i)\n",
    "    \n",
    "train_precision.append(trainprecision/10)\n",
    "test_precision.append(testprecision/10)\n",
    "train_recall.append(trainrecall/10)\n",
    "test_recall.append(testrecall/10)    \n",
    "\n",
    "#Logistic Regression\n",
    "clf = LogisticRegression(C=9,penalty='l2')\n",
    "clf.fit(x,y)\n",
    "trainscore=clf.score(x,y)\n",
    "testscore=clf.score(x_test,y_test)\n",
    "train_score.append(trainscore)\n",
    "test_score.append(testscore)\n",
    "\n",
    "testprecision = 0\n",
    "testrecall = 0\n",
    "trainprecision = 0\n",
    "trainrecall = 0\n",
    "h = clf.predict(x)\n",
    "htest = clf.predict(x_test)\n",
    "for i in range(0,10):\n",
    "    trainprecision += precision_score(y==i,h==i)\n",
    "    testprecision += precision_score(y_test==i,htest==i)\n",
    "    trainrecall += recall_score(y==i,h==i)\n",
    "    testrecall += recall_score(y_test==i,htest==i)\n",
    "    \n",
    "train_precision.append(trainprecision/10)\n",
    "test_precision.append(testprecision/10)\n",
    "train_recall.append(trainrecall/10)\n",
    "test_recall.append(testrecall/10)    \n",
    "\n",
    "#KNN\n",
    "clf = KNeighborsClassifier(n_neighbors=3)\n",
    "clf.fit(x,y)\n",
    "trainscore=clf.score(x,y)\n",
    "testscore=clf.score(x_test,y_test)\n",
    "train_score.append(trainscore)\n",
    "test_score.append(testscore)\n",
    "\n",
    "testprecision = 0\n",
    "testrecall = 0\n",
    "trainprecision = 0\n",
    "trainrecall = 0\n",
    "h = clf.predict(x)\n",
    "htest = clf.predict(x_test)\n",
    "for i in range(0,10):\n",
    "    trainprecision += precision_score(y==i,h==i)\n",
    "    testprecision += precision_score(y_test==i,htest==i)\n",
    "    trainrecall += recall_score(y==i,h==i)\n",
    "    testrecall += recall_score(y_test==i,htest==i)\n",
    "    \n",
    "train_precision.append(trainprecision/10)\n",
    "test_precision.append(testprecision/10)\n",
    "train_recall.append(trainrecall/10)\n",
    "test_recall.append(testrecall/10)    \n",
    "\n",
    "#Decision Tree\n",
    "clf = DecisionTreeClassifier(max_depth=11,criterion='entropy')\n",
    "clf.fit(x,y)\n",
    "trainscore=clf.score(x,y)\n",
    "testscore=clf.score(x_test,y_test)\n",
    "train_score.append(trainscore)\n",
    "test_score.append(testscore)\n",
    "\n",
    "testprecision = 0\n",
    "testrecall = 0\n",
    "trainprecision = 0\n",
    "trainrecall = 0\n",
    "h = clf.predict(x)\n",
    "htest = clf.predict(x_test)\n",
    "for i in range(0,10):\n",
    "    trainprecision += precision_score(y==i,h==i)\n",
    "    testprecision += precision_score(y_test==i,htest==i)\n",
    "    trainrecall += recall_score(y==i,h==i)\n",
    "    testrecall += recall_score(y_test==i,htest==i)\n",
    "    \n",
    "train_precision.append(trainprecision/10)\n",
    "test_precision.append(testprecision/10)\n",
    "train_recall.append(trainrecall/10)\n",
    "test_recall.append(testrecall/10)    \n",
    "\n",
    "#Random Forest\n",
    "clf = RandomForestClassifier(n_estimators=31)\n",
    "clf.fit(x,y)\n",
    "trainscore=clf.score(x,y)\n",
    "testscore=clf.score(x_test,y_test)\n",
    "train_score.append(trainscore)\n",
    "test_score.append(testscore)\n",
    "\n",
    "testprecision = 0\n",
    "testrecall = 0\n",
    "trainprecision = 0\n",
    "trainrecall = 0\n",
    "h = clf.predict(x)\n",
    "htest = clf.predict(x_test)\n",
    "for i in range(0,10):\n",
    "    trainprecision += precision_score(y==i,h==i)\n",
    "    testprecision += precision_score(y_test==i,htest==i)\n",
    "    trainrecall += recall_score(y==i,h==i)\n",
    "    testrecall += recall_score(y_test==i,htest==i)\n",
    "    \n",
    "train_precision.append(trainprecision/10)\n",
    "test_precision.append(testprecision/10)\n",
    "train_recall.append(trainrecall/10)\n",
    "test_recall.append(testrecall/10)    \n",
    "\n",
    "#MLP\n",
    "clf = MLPClassifier(hidden_layer_sizes=(185,),activation='logistic')\n",
    "clf.fit(x,y)\n",
    "trainscore=clf.score(x,y)\n",
    "testscore=clf.score(x_test,y_test)\n",
    "train_score.append(trainscore)\n",
    "test_score.append(testscore)\n",
    "\n",
    "testprecision = 0\n",
    "testrecall = 0\n",
    "trainprecision = 0\n",
    "trainrecall = 0\n",
    "h = clf.predict(x)\n",
    "htest = clf.predict(x_test)\n",
    "for i in range(0,10):\n",
    "    trainprecision += precision_score(y==i,h==i)\n",
    "    testprecision += precision_score(y_test==i,htest==i)\n",
    "    trainrecall += recall_score(y==i,h==i)\n",
    "    testrecall += recall_score(y_test==i,htest==i)\n",
    "    \n",
    "train_precision.append(trainprecision/10)\n",
    "test_precision.append(testprecision/10)\n",
    "train_recall.append(trainrecall/10)\n",
    "test_recall.append(testrecall/10)    \n",
    "\n",
    "#ACC\n",
    "plt.figure()\n",
    "plt.ylabel(\"Accuracy Score\")\n",
    "plt.xlabel(\"Classifiers\")\n",
    "plt.plot(classifier,train_score, 'b-',label=\"Train\")\n",
    "plt.plot(classifier,test_score, 'r-',label=\"Test\")\n",
    "plt.legend()\n",
    "\n",
    "#Precision\n",
    "plt.figure()\n",
    "plt.ylabel(\"Precision Score\")\n",
    "plt.xlabel(\"Classifiers\")\n",
    "plt.plot(classifier,train_precision, 'b-',label=\"Train\")\n",
    "plt.plot(classifier,test_precision, 'r-',label=\"Test\")\n",
    "plt.legend()\n",
    "\n",
    "#Recall\n",
    "plt.figure()\n",
    "plt.ylabel(\"Recall Score\")\n",
    "plt.xlabel(\"Classifiers\")\n",
    "plt.plot(classifier,train_recall, 'b-',label=\"Train\")\n",
    "plt.plot(classifier,test_recall, 'r-',label=\"Test\")\n",
    "plt.legend()"
   ]
  },
  {
   "cell_type": "markdown",
   "metadata": {},
   "source": [
    "### Finall Classifier Confusion Matrix"
   ]
  },
  {
   "cell_type": "code",
   "execution_count": 6,
   "metadata": {},
   "outputs": [
    {
     "data": {
      "text/plain": [
       "SVC(C=2, kernel='poly')"
      ]
     },
     "execution_count": 6,
     "metadata": {},
     "output_type": "execute_result"
    }
   ],
   "source": [
    "clf = SVC(C=2,kernel=\"poly\")\n",
    "clf.fit(x,y)"
   ]
  },
  {
   "cell_type": "code",
   "execution_count": 7,
   "metadata": {},
   "outputs": [],
   "source": [
    "c=confusion_matrix(y,clf.predict(x))\n",
    "ctest=confusion_matrix(y_test,clf.predict(x_test))"
   ]
  },
  {
   "cell_type": "code",
   "execution_count": 10,
   "metadata": {},
   "outputs": [
    {
     "data": {
      "image/png": "[encoded data removed]",
      "text/plain": [
       "<Figure size 432x288 with 2 Axes>"
      ]
     },
     "metadata": {
      "needs_background": "light"
     },
     "output_type": "display_data"
    }
   ],
   "source": [
    "class_names = ['0', '1', '2', '3', '4', '5', '6', '7', '8', '9']\n",
    "disp = plot_confusion_matrix(clf,x,y,display_labels=class_names,cmap='BuPu')"
   ]
  }
 ],
 "metadata": {
  "kernelspec": {
   "display_name": "Python 3",
   "language": "python",
   "name": "python3"
  },
  "language_info": {
   "codemirror_mode": {
    "name": "ipython",
    "version": 3
   },
   "file_extension": ".py",
   "mimetype": "text/x-python",
   "name": "python",
   "nbconvert_exporter": "python",
   "pygments_lexer": "ipython3",
   "version": "3.8.5"
  }
 },
 "nbformat": 4,
 "nbformat_minor": 4
}
